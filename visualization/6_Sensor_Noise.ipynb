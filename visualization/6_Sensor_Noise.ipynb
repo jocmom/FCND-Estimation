{
 "cells": [
  {
   "cell_type": "code",
   "execution_count": 7,
   "metadata": {
    "collapsed": true
   },
   "outputs": [],
   "source": [
    "import numpy as np\n",
    "from simulator import load_data"
   ]
  },
  {
   "cell_type": "code",
   "execution_count": 9,
   "metadata": {},
   "outputs": [],
   "source": [
    "gps_x = load_data('./../config/log/Graph1.txt')[:,1]\n",
    "acc_x = load_data('./../config/log/Graph2.txt')[:,1]\n",
    "gps_x_std = np.std(gps_x)\n",
    "acc_x_std = np.std(acc_x)"
   ]
  },
  {
   "cell_type": "code",
   "execution_count": 10,
   "metadata": {},
   "outputs": [
    {
     "name": "stdout",
     "output_type": "stream",
     "text": [
      "GPS standard deviation in x direction: 0.7010171369141591\n",
      "IMU acceleration standard deviation in x direction: 0.4919424755126765\n"
     ]
    }
   ],
   "source": [
    "print('GPS standard deviation in x direction: {}'.format(gps_x_std))\n",
    "print('IMU acceleration standard deviation in x direction: {}'.format(acc_x_std))"
   ]
  },
  {
   "cell_type": "code",
   "execution_count": null,
   "metadata": {
    "collapsed": true
   },
   "outputs": [],
   "source": []
  }
 ],
 "metadata": {
  "kernelspec": {
   "display_name": "Python 3",
   "language": "python",
   "name": "python3"
  },
  "language_info": {
   "codemirror_mode": {
    "name": "ipython",
    "version": 3
   },
   "file_extension": ".py",
   "mimetype": "text/x-python",
   "name": "python",
   "nbconvert_exporter": "python",
   "pygments_lexer": "ipython3",
   "version": "3.6.5"
  }
 },
 "nbformat": 4,
 "nbformat_minor": 2
}
